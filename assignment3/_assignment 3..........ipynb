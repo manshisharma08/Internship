{
 "cells": [
  {
   "cell_type": "markdown",
   "id": "03a00407",
   "metadata": {},
   "source": [
    "1"
   ]
  },
  {
   "cell_type": "code",
   "execution_count": 1,
   "id": "b91db5e0",
   "metadata": {},
   "outputs": [],
   "source": [
    "from selenium import webdriver\n",
    "import time\n",
    "from selenium.webdriver.common.by import By\n",
    "from selenium.common.exceptions import NoSuchElementException"
   ]
  },
  {
   "cell_type": "code",
   "execution_count": 2,
   "id": "12dbd849",
   "metadata": {},
   "outputs": [],
   "source": [
    "from selenium.common.exceptions import StaleElementReferenceException\n",
    "from selenium.webdriver.support.ui import WebDriverWait\n",
    "from selenium.webdriver.support import expected_conditions as EC\n",
    "from selenium.webdriver.common.by import By"
   ]
  },
  {
   "cell_type": "code",
   "execution_count": 9,
   "id": "bc8dafde",
   "metadata": {},
   "outputs": [],
   "source": [
    "import selenium\n",
    "import pandas as pd\n",
    "import time\n",
    "from bs4 import BeautifulSoup\n",
    "import requests\n",
    "import re"
   ]
  },
  {
   "cell_type": "code",
   "execution_count": 10,
   "id": "ddf98790",
   "metadata": {},
   "outputs": [
    {
     "name": "stderr",
     "output_type": "stream",
     "text": [
      "C:\\Users\\Laksh\\AppData\\Local\\Temp\\ipykernel_9084\\960269422.py:1: DeprecationWarning: executable_path has been deprecated, please pass in a Service object\n",
      "  driver = webdriver.Chrome(r\"C:\\Users\\HP\\Downloads\\chromedriver_win32 (3)/chromedriver.exe\")\n"
     ]
    }
   ],
   "source": [
    "driver = webdriver.Chrome(r\"C:\\Users\\HP\\Downloads\\chromedriver_win32 (3)/chromedriver.exe\")\n",
    "driver.get(\"http://www.amazon.in/\")"
   ]
  },
  {
   "cell_type": "markdown",
   "id": "29912846",
   "metadata": {},
   "source": [
    "3"
   ]
  },
  {
   "cell_type": "code",
   "execution_count": 57,
   "id": "66ea67f4",
   "metadata": {},
   "outputs": [],
   "source": [
    "import selenium\n",
    "import pandas as pd\n",
    "import time\n",
    "from bs4 import BeautifulSoup\n",
    "from selenium import webdriver\n",
    "from selenium.common.exceptions import StaleElementReferenceException, NoSuchElementException\n",
    "import requests\n",
    "import re \n",
    "from selenium.webdriver.common.by import By\n",
    "import time"
   ]
  },
  {
   "cell_type": "code",
   "execution_count": 58,
   "id": "795c3262",
   "metadata": {},
   "outputs": [
    {
     "name": "stderr",
     "output_type": "stream",
     "text": [
      "C:\\Users\\Laksh\\AppData\\Local\\Temp\\ipykernel_13764\\364441483.py:1: DeprecationWarning: executable_path has been deprecated, please pass in a Service object\n",
      "  driver = webdriver.Chrome(r\"C:\\Users\\HP\\Downloads\\chromedriver_win32 (3)/chromedriver.exe\")\n"
     ]
    }
   ],
   "source": [
    "driver = webdriver.Chrome(r\"C:\\Users\\HP\\Downloads\\chromedriver_win32 (3)/chromedriver.exe\")"
   ]
  },
  {
   "cell_type": "code",
   "execution_count": 59,
   "id": "bcb179aa",
   "metadata": {},
   "outputs": [],
   "source": [
    "driver.get('https://www.amazon.in/?&ext_vrnc=hi&tag=googhydrabk1-21&ref=pd_sl_7hz2t19t5c_e&adgrpid=58355126069&hvpone=&hvptwo=&hvadid=486458712209&hvpos=&hvnetw=g&hvrand=6679969415814005790&hvqmt=e&hvdev=c&hvdvcmdl=&hvlocint=&hvlocphy=9040182&hvtargid=kwd-10573980&hydadcr=14453_2154373&gclid=EAIaIQobChMIu5rJwe7L_QIVfZJmAh12kgCFEAAYASAAEgK8Z_D_BwE')"
   ]
  },
  {
   "cell_type": "code",
   "execution_count": 60,
   "id": "d802a2b7",
   "metadata": {},
   "outputs": [
    {
     "ename": "NoSuchElementException",
     "evalue": "Message: no such element: Unable to locate element: {\"method\":\"css selector\",\"selector\":\".nav-input nav-progressive-attribute\"}\n  (Session info: chrome=110.0.5481.178)\nStacktrace:\nBacktrace:\n\t(No symbol) [0x010237D3]\n\t(No symbol) [0x00FB8B81]\n\t(No symbol) [0x00EBB36D]\n\t(No symbol) [0x00EED382]\n\t(No symbol) [0x00EED4BB]\n\t(No symbol) [0x00F23302]\n\t(No symbol) [0x00F0B464]\n\t(No symbol) [0x00F21215]\n\t(No symbol) [0x00F0B216]\n\t(No symbol) [0x00EE0D97]\n\t(No symbol) [0x00EE253D]\n\tGetHandleVerifier [0x0129ABF2+2510930]\n\tGetHandleVerifier [0x012C8EC1+2700065]\n\tGetHandleVerifier [0x012CC86C+2714828]\n\tGetHandleVerifier [0x010D3480+645344]\n\t(No symbol) [0x00FC0FD2]\n\t(No symbol) [0x00FC6C68]\n\t(No symbol) [0x00FC6D4B]\n\t(No symbol) [0x00FD0D6B]\n\tBaseThreadInitThunk [0x76007D69+25]\n\tRtlInitializeExceptionChain [0x773FBB9B+107]\n\tRtlClearBits [0x773FBB1F+191]\n",
     "output_type": "error",
     "traceback": [
      "\u001b[1;31m---------------------------------------------------------------------------\u001b[0m",
      "\u001b[1;31mNoSuchElementException\u001b[0m                    Traceback (most recent call last)",
      "Input \u001b[1;32mIn [60]\u001b[0m, in \u001b[0;36m<cell line: 1>\u001b[1;34m()\u001b[0m\n\u001b[1;32m----> 1\u001b[0m search_field_product\u001b[38;5;241m=\u001b[39m\u001b[43mdriver\u001b[49m\u001b[38;5;241;43m.\u001b[39;49m\u001b[43mfind_element\u001b[49m\u001b[43m(\u001b[49m\u001b[43mBy\u001b[49m\u001b[38;5;241;43m.\u001b[39;49m\u001b[43mCLASS_NAME\u001b[49m\u001b[43m,\u001b[49m\u001b[38;5;124;43m\"\u001b[39;49m\u001b[38;5;124;43mnav-input nav-progressive-attribute\u001b[39;49m\u001b[38;5;124;43m\"\u001b[39;49m\u001b[43m)\u001b[49m\n\u001b[0;32m      2\u001b[0m search_field_product\u001b[38;5;241m.\u001b[39msend_keys(\u001b[38;5;124m'\u001b[39m\u001b[38;5;124mGuitar\u001b[39m\u001b[38;5;124m'\u001b[39m)\n",
      "File \u001b[1;32m~\\anaconda3\\lib\\site-packages\\selenium\\webdriver\\remote\\webdriver.py:830\u001b[0m, in \u001b[0;36mWebDriver.find_element\u001b[1;34m(self, by, value)\u001b[0m\n\u001b[0;32m    827\u001b[0m     by \u001b[38;5;241m=\u001b[39m By\u001b[38;5;241m.\u001b[39mCSS_SELECTOR\n\u001b[0;32m    828\u001b[0m     value \u001b[38;5;241m=\u001b[39m \u001b[38;5;124mf\u001b[39m\u001b[38;5;124m'\u001b[39m\u001b[38;5;124m[name=\u001b[39m\u001b[38;5;124m\"\u001b[39m\u001b[38;5;132;01m{\u001b[39;00mvalue\u001b[38;5;132;01m}\u001b[39;00m\u001b[38;5;124m\"\u001b[39m\u001b[38;5;124m]\u001b[39m\u001b[38;5;124m'\u001b[39m\n\u001b[1;32m--> 830\u001b[0m \u001b[38;5;28;01mreturn\u001b[39;00m \u001b[38;5;28;43mself\u001b[39;49m\u001b[38;5;241;43m.\u001b[39;49m\u001b[43mexecute\u001b[49m\u001b[43m(\u001b[49m\u001b[43mCommand\u001b[49m\u001b[38;5;241;43m.\u001b[39;49m\u001b[43mFIND_ELEMENT\u001b[49m\u001b[43m,\u001b[49m\u001b[43m \u001b[49m\u001b[43m{\u001b[49m\u001b[38;5;124;43m\"\u001b[39;49m\u001b[38;5;124;43musing\u001b[39;49m\u001b[38;5;124;43m\"\u001b[39;49m\u001b[43m:\u001b[49m\u001b[43m \u001b[49m\u001b[43mby\u001b[49m\u001b[43m,\u001b[49m\u001b[43m \u001b[49m\u001b[38;5;124;43m\"\u001b[39;49m\u001b[38;5;124;43mvalue\u001b[39;49m\u001b[38;5;124;43m\"\u001b[39;49m\u001b[43m:\u001b[49m\u001b[43m \u001b[49m\u001b[43mvalue\u001b[49m\u001b[43m}\u001b[49m\u001b[43m)\u001b[49m[\u001b[38;5;124m\"\u001b[39m\u001b[38;5;124mvalue\u001b[39m\u001b[38;5;124m\"\u001b[39m]\n",
      "File \u001b[1;32m~\\anaconda3\\lib\\site-packages\\selenium\\webdriver\\remote\\webdriver.py:440\u001b[0m, in \u001b[0;36mWebDriver.execute\u001b[1;34m(self, driver_command, params)\u001b[0m\n\u001b[0;32m    438\u001b[0m response \u001b[38;5;241m=\u001b[39m \u001b[38;5;28mself\u001b[39m\u001b[38;5;241m.\u001b[39mcommand_executor\u001b[38;5;241m.\u001b[39mexecute(driver_command, params)\n\u001b[0;32m    439\u001b[0m \u001b[38;5;28;01mif\u001b[39;00m response:\n\u001b[1;32m--> 440\u001b[0m     \u001b[38;5;28;43mself\u001b[39;49m\u001b[38;5;241;43m.\u001b[39;49m\u001b[43merror_handler\u001b[49m\u001b[38;5;241;43m.\u001b[39;49m\u001b[43mcheck_response\u001b[49m\u001b[43m(\u001b[49m\u001b[43mresponse\u001b[49m\u001b[43m)\u001b[49m\n\u001b[0;32m    441\u001b[0m     response[\u001b[38;5;124m\"\u001b[39m\u001b[38;5;124mvalue\u001b[39m\u001b[38;5;124m\"\u001b[39m] \u001b[38;5;241m=\u001b[39m \u001b[38;5;28mself\u001b[39m\u001b[38;5;241m.\u001b[39m_unwrap_value(response\u001b[38;5;241m.\u001b[39mget(\u001b[38;5;124m\"\u001b[39m\u001b[38;5;124mvalue\u001b[39m\u001b[38;5;124m\"\u001b[39m, \u001b[38;5;28;01mNone\u001b[39;00m))\n\u001b[0;32m    442\u001b[0m     \u001b[38;5;28;01mreturn\u001b[39;00m response\n",
      "File \u001b[1;32m~\\anaconda3\\lib\\site-packages\\selenium\\webdriver\\remote\\errorhandler.py:245\u001b[0m, in \u001b[0;36mErrorHandler.check_response\u001b[1;34m(self, response)\u001b[0m\n\u001b[0;32m    243\u001b[0m         alert_text \u001b[38;5;241m=\u001b[39m value[\u001b[38;5;124m\"\u001b[39m\u001b[38;5;124malert\u001b[39m\u001b[38;5;124m\"\u001b[39m]\u001b[38;5;241m.\u001b[39mget(\u001b[38;5;124m\"\u001b[39m\u001b[38;5;124mtext\u001b[39m\u001b[38;5;124m\"\u001b[39m)\n\u001b[0;32m    244\u001b[0m     \u001b[38;5;28;01mraise\u001b[39;00m exception_class(message, screen, stacktrace, alert_text)  \u001b[38;5;66;03m# type: ignore[call-arg]  # mypy is not smart enough here\u001b[39;00m\n\u001b[1;32m--> 245\u001b[0m \u001b[38;5;28;01mraise\u001b[39;00m exception_class(message, screen, stacktrace)\n",
      "\u001b[1;31mNoSuchElementException\u001b[0m: Message: no such element: Unable to locate element: {\"method\":\"css selector\",\"selector\":\".nav-input nav-progressive-attribute\"}\n  (Session info: chrome=110.0.5481.178)\nStacktrace:\nBacktrace:\n\t(No symbol) [0x010237D3]\n\t(No symbol) [0x00FB8B81]\n\t(No symbol) [0x00EBB36D]\n\t(No symbol) [0x00EED382]\n\t(No symbol) [0x00EED4BB]\n\t(No symbol) [0x00F23302]\n\t(No symbol) [0x00F0B464]\n\t(No symbol) [0x00F21215]\n\t(No symbol) [0x00F0B216]\n\t(No symbol) [0x00EE0D97]\n\t(No symbol) [0x00EE253D]\n\tGetHandleVerifier [0x0129ABF2+2510930]\n\tGetHandleVerifier [0x012C8EC1+2700065]\n\tGetHandleVerifier [0x012CC86C+2714828]\n\tGetHandleVerifier [0x010D3480+645344]\n\t(No symbol) [0x00FC0FD2]\n\t(No symbol) [0x00FC6C68]\n\t(No symbol) [0x00FC6D4B]\n\t(No symbol) [0x00FD0D6B]\n\tBaseThreadInitThunk [0x76007D69+25]\n\tRtlInitializeExceptionChain [0x773FBB9B+107]\n\tRtlClearBits [0x773FBB1F+191]\n"
     ]
    }
   ],
   "source": [
    "search_field_product=driver.find_element(By.CLASS_NAME,\"nav-input nav-progressive-attribute\")\n",
    "search_field_product.send_keys('Guitar')"
   ]
  },
  {
   "cell_type": "code",
   "execution_count": 40,
   "id": "055dc5fe",
   "metadata": {},
   "outputs": [],
   "source": [
    "search_button=driver.find_element(By.XPATH,\"/html/body/div[1]/div[3]/form/div[1]/div[1]/div[2]/div[2]/div[5]/center/input[1]\")\n",
    "search_button.click()"
   ]
  },
  {
   "cell_type": "code",
   "execution_count": 52,
   "id": "065c851b",
   "metadata": {},
   "outputs": [
    {
     "data": {
      "text/plain": [
       "<selenium.webdriver.remote.webelement.WebElement (session=\"349cab62b0e45b6c98a067e91934f25f\", element=\"6f4b19c6-9538-4aa4-8cf1-29fdfda0514d\")>"
      ]
     },
     "execution_count": 52,
     "metadata": {},
     "output_type": "execute_result"
    }
   ],
   "source": [
    "url=driver.find_element(By.XPATH,'//div[@class=\"yuRUbf\"]')\n",
    "url"
   ]
  },
  {
   "cell_type": "code",
   "execution_count": 37,
   "id": "e099f9aa",
   "metadata": {},
   "outputs": [],
   "source": [
    "import selenium\n",
    "import pandas as pd\n",
    "import time\n",
    "from bs4 import BeautifulSoup\n",
    "from selenium import webdriver\n",
    "from selenium.common.exceptions import StaleElementReferenceException, NoSuchElementException\n",
    "import requests\n",
    "import re \n",
    "from selenium.webdriver.common.by import By\n",
    "import time"
   ]
  },
  {
   "cell_type": "code",
   "execution_count": 38,
   "id": "55724efc",
   "metadata": {},
   "outputs": [
    {
     "name": "stderr",
     "output_type": "stream",
     "text": [
      "C:\\Users\\Laksh\\AppData\\Local\\Temp\\ipykernel_13764\\364441483.py:1: DeprecationWarning: executable_path has been deprecated, please pass in a Service object\n",
      "  driver = webdriver.Chrome(r\"C:\\Users\\HP\\Downloads\\chromedriver_win32 (3)/chromedriver.exe\")\n"
     ]
    }
   ],
   "source": [
    "driver = webdriver.Chrome(r\"C:\\Users\\HP\\Downloads\\chromedriver_win32 (3)/chromedriver.exe\")"
   ]
  },
  {
   "cell_type": "code",
   "execution_count": 39,
   "id": "ef48e299",
   "metadata": {},
   "outputs": [],
   "source": [
    "driver.get('https://www.flipkart.com/')"
   ]
  },
  {
   "cell_type": "code",
   "execution_count": 40,
   "id": "341be029",
   "metadata": {},
   "outputs": [],
   "source": [
    "search_item=driver.find_element(By.CLASS_NAME,\"_3704LK\")\n",
    "search_item.send_keys(\"smartphone\")"
   ]
  },
  {
   "cell_type": "code",
   "execution_count": 42,
   "id": "41befb4f",
   "metadata": {},
   "outputs": [],
   "source": [
    "search_button=driver.find_element(By.XPATH,'/html/body/div[1]/div/div[1]/div[1]/div[2]/div[2]/form/div/button')\n",
    "search_button.click()"
   ]
  },
  {
   "cell_type": "code",
   "execution_count": 43,
   "id": "46533e1b",
   "metadata": {},
   "outputs": [],
   "source": [
    "brand_name=[]\n",
    "smartphone_name=[]\n",
    "phone_colour=[]\n",
    "phone_RAM=[]\n",
    "phone_ROM=[]\n",
    "primary_camera=[]\n",
    "secondary_camera=[]\n",
    "display_size=[]\n",
    "battery_capacity=[]\n",
    "phone_price=[]"
   ]
  },
  {
   "cell_type": "code",
   "execution_count": 44,
   "id": "a347ef34",
   "metadata": {},
   "outputs": [],
   "source": [
    "brand_tags=driver.find_elements(By.XPATH,'//div[@class=\"_4rR01T\"]')\n",
    "for i in brand_tags[0:10]:\n",
    "    brand=i.text\n",
    "    brand_name.append(brand)\n",
    "    \n",
    "name_tags=driver.find_elements(By.XPATH,'//div[@class=\"_4rR01T\"]')\n",
    "for i in name_tags[0:10]:\n",
    "    name=i.text\n",
    "    smartphone_name.append(name)\n",
    "    \n",
    "colour_tags=driver.find_elements(By.XPATH,'//div[@class=\"_4rR01T\"]')\n",
    "for i in colour_tags[0:10]:\n",
    "    colour=i.text\n",
    "    phone_colour.append(colour)\n",
    "    \n",
    "RAM_tags=driver.find_elements(By.XPATH,'//li[@class=\"rgWa7D\"]')\n",
    "for i in RAM_tags[0:10]:\n",
    "    RAM=i.text\n",
    "    phone_RAM.append(RAM)\n",
    "    \n",
    "ROM_tags=driver.find_elements(By.XPATH,'//li[@class=\"rgWa7D\"]')\n",
    "for i in ROM_tags[0:10]:\n",
    "    ROM=i.text\n",
    "    phone_ROM.append(ROM)\n",
    "    \n",
    "pcamera_tags=driver.find_elements(By.XPATH,'//li[@class=\"rgWa7D\"]')\n",
    "for i in pcamera_tags[0:10]:\n",
    "    pcamera=i.text\n",
    "    primary_camera.append(pcamera)\n",
    "    \n",
    "camera_tags=driver.find_elements(By.XPATH,'//li[@class=\"rgWa7D\"]')\n",
    "for i in camera_tags[0:10]:\n",
    "    camera=i.text\n",
    "    secondary_camera.append(camera)\n",
    "    \n",
    "display_tags=driver.find_elements(By.XPATH,'//li[@class=\"rgWa7D\"]')\n",
    "for i in display_tags[0:10]:\n",
    "    display=i.text\n",
    "    display_size.append(display)\n",
    "        \n",
    "battery_tags=driver.find_elements(By.XPATH,'//li[@class=\"rgWa7D\"]')\n",
    "for i in battery_tags[0:10]:\n",
    "    battery=i.text\n",
    "    battery_capacity.append(battery)\n",
    "    \n",
    "price_tags=driver.find_elements(By.XPATH,'//li[@class=\"rgWa7D\"]')\n",
    "for i in price_tags[0:10]:\n",
    "    price=i.text\n",
    "    phone_price.append(price)\n",
    "    \n"
   ]
  },
  {
   "cell_type": "code",
   "execution_count": 45,
   "id": "7cc39f67",
   "metadata": {},
   "outputs": [
    {
     "name": "stdout",
     "output_type": "stream",
     "text": [
      "{10}\n"
     ]
    }
   ],
   "source": [
    "print({len(brand_name),len(smartphone_name),len(phone_colour),len(phone_RAM),len(phone_ROM),len(primary_camera),len(secondary_camera),len(display_size),len(battery_capacity),len(phone_price)})"
   ]
  },
  {
   "cell_type": "code",
   "execution_count": 47,
   "id": "f036382e",
   "metadata": {},
   "outputs": [
    {
     "data": {
      "text/html": [
       "<div>\n",
       "<style scoped>\n",
       "    .dataframe tbody tr th:only-of-type {\n",
       "        vertical-align: middle;\n",
       "    }\n",
       "\n",
       "    .dataframe tbody tr th {\n",
       "        vertical-align: top;\n",
       "    }\n",
       "\n",
       "    .dataframe thead th {\n",
       "        text-align: right;\n",
       "    }\n",
       "</style>\n",
       "<table border=\"1\" class=\"dataframe\">\n",
       "  <thead>\n",
       "    <tr style=\"text-align: right;\">\n",
       "      <th></th>\n",
       "      <th>brand</th>\n",
       "      <th>Name</th>\n",
       "      <th>Colour</th>\n",
       "      <th>RAM</th>\n",
       "      <th>ROM</th>\n",
       "      <th>Pcamera</th>\n",
       "      <th>Camera</th>\n",
       "      <th>Display</th>\n",
       "      <th>Battery</th>\n",
       "      <th>price</th>\n",
       "    </tr>\n",
       "  </thead>\n",
       "  <tbody>\n",
       "    <tr>\n",
       "      <th>0</th>\n",
       "      <td>REDMI 10 (Caribbean Green, 64 GB)</td>\n",
       "      <td>REDMI 10 (Caribbean Green, 64 GB)</td>\n",
       "      <td>REDMI 10 (Caribbean Green, 64 GB)</td>\n",
       "      <td>4 GB RAM | 64 GB ROM | Expandable Upto 1 TB</td>\n",
       "      <td>4 GB RAM | 64 GB ROM | Expandable Upto 1 TB</td>\n",
       "      <td>4 GB RAM | 64 GB ROM | Expandable Upto 1 TB</td>\n",
       "      <td>4 GB RAM | 64 GB ROM | Expandable Upto 1 TB</td>\n",
       "      <td>4 GB RAM | 64 GB ROM | Expandable Upto 1 TB</td>\n",
       "      <td>4 GB RAM | 64 GB ROM | Expandable Upto 1 TB</td>\n",
       "      <td>4 GB RAM | 64 GB ROM | Expandable Upto 1 TB</td>\n",
       "    </tr>\n",
       "    <tr>\n",
       "      <th>1</th>\n",
       "      <td>REDMI 10 (Pacific Blue, 64 GB)</td>\n",
       "      <td>REDMI 10 (Pacific Blue, 64 GB)</td>\n",
       "      <td>REDMI 10 (Pacific Blue, 64 GB)</td>\n",
       "      <td>17.02 cm (6.7 inch) HD+ Display</td>\n",
       "      <td>17.02 cm (6.7 inch) HD+ Display</td>\n",
       "      <td>17.02 cm (6.7 inch) HD+ Display</td>\n",
       "      <td>17.02 cm (6.7 inch) HD+ Display</td>\n",
       "      <td>17.02 cm (6.7 inch) HD+ Display</td>\n",
       "      <td>17.02 cm (6.7 inch) HD+ Display</td>\n",
       "      <td>17.02 cm (6.7 inch) HD+ Display</td>\n",
       "    </tr>\n",
       "    <tr>\n",
       "      <th>2</th>\n",
       "      <td>Infinix HOT 20 Play (Racing Black, 64 GB)</td>\n",
       "      <td>Infinix HOT 20 Play (Racing Black, 64 GB)</td>\n",
       "      <td>Infinix HOT 20 Play (Racing Black, 64 GB)</td>\n",
       "      <td>50MP + 2MP | 5MP Front Camera</td>\n",
       "      <td>50MP + 2MP | 5MP Front Camera</td>\n",
       "      <td>50MP + 2MP | 5MP Front Camera</td>\n",
       "      <td>50MP + 2MP | 5MP Front Camera</td>\n",
       "      <td>50MP + 2MP | 5MP Front Camera</td>\n",
       "      <td>50MP + 2MP | 5MP Front Camera</td>\n",
       "      <td>50MP + 2MP | 5MP Front Camera</td>\n",
       "    </tr>\n",
       "    <tr>\n",
       "      <th>3</th>\n",
       "      <td>Infinix HOT 20 Play (Luna Blue, 64 GB)</td>\n",
       "      <td>Infinix HOT 20 Play (Luna Blue, 64 GB)</td>\n",
       "      <td>Infinix HOT 20 Play (Luna Blue, 64 GB)</td>\n",
       "      <td>6000 mAh Lithium Polymer Battery</td>\n",
       "      <td>6000 mAh Lithium Polymer Battery</td>\n",
       "      <td>6000 mAh Lithium Polymer Battery</td>\n",
       "      <td>6000 mAh Lithium Polymer Battery</td>\n",
       "      <td>6000 mAh Lithium Polymer Battery</td>\n",
       "      <td>6000 mAh Lithium Polymer Battery</td>\n",
       "      <td>6000 mAh Lithium Polymer Battery</td>\n",
       "    </tr>\n",
       "    <tr>\n",
       "      <th>4</th>\n",
       "      <td>Infinix HOT 20 Play (Fantasy Purple, 64 GB)</td>\n",
       "      <td>Infinix HOT 20 Play (Fantasy Purple, 64 GB)</td>\n",
       "      <td>Infinix HOT 20 Play (Fantasy Purple, 64 GB)</td>\n",
       "      <td>Qualcomm Snapdragon 680 Processor</td>\n",
       "      <td>Qualcomm Snapdragon 680 Processor</td>\n",
       "      <td>Qualcomm Snapdragon 680 Processor</td>\n",
       "      <td>Qualcomm Snapdragon 680 Processor</td>\n",
       "      <td>Qualcomm Snapdragon 680 Processor</td>\n",
       "      <td>Qualcomm Snapdragon 680 Processor</td>\n",
       "      <td>Qualcomm Snapdragon 680 Processor</td>\n",
       "    </tr>\n",
       "    <tr>\n",
       "      <th>5</th>\n",
       "      <td>Infinix HOT 20 Play (Aurora Green, 64 GB)</td>\n",
       "      <td>Infinix HOT 20 Play (Aurora Green, 64 GB)</td>\n",
       "      <td>Infinix HOT 20 Play (Aurora Green, 64 GB)</td>\n",
       "      <td>1 Year Warranty for Phone and 6 Months Warrant...</td>\n",
       "      <td>1 Year Warranty for Phone and 6 Months Warrant...</td>\n",
       "      <td>1 Year Warranty for Phone and 6 Months Warrant...</td>\n",
       "      <td>1 Year Warranty for Phone and 6 Months Warrant...</td>\n",
       "      <td>1 Year Warranty for Phone and 6 Months Warrant...</td>\n",
       "      <td>1 Year Warranty for Phone and 6 Months Warrant...</td>\n",
       "      <td>1 Year Warranty for Phone and 6 Months Warrant...</td>\n",
       "    </tr>\n",
       "    <tr>\n",
       "      <th>6</th>\n",
       "      <td>REDMI 10 (Midnight Black, 64 GB)</td>\n",
       "      <td>REDMI 10 (Midnight Black, 64 GB)</td>\n",
       "      <td>REDMI 10 (Midnight Black, 64 GB)</td>\n",
       "      <td>4 GB RAM | 64 GB ROM | Expandable Upto 1 TB</td>\n",
       "      <td>4 GB RAM | 64 GB ROM | Expandable Upto 1 TB</td>\n",
       "      <td>4 GB RAM | 64 GB ROM | Expandable Upto 1 TB</td>\n",
       "      <td>4 GB RAM | 64 GB ROM | Expandable Upto 1 TB</td>\n",
       "      <td>4 GB RAM | 64 GB ROM | Expandable Upto 1 TB</td>\n",
       "      <td>4 GB RAM | 64 GB ROM | Expandable Upto 1 TB</td>\n",
       "      <td>4 GB RAM | 64 GB ROM | Expandable Upto 1 TB</td>\n",
       "    </tr>\n",
       "    <tr>\n",
       "      <th>7</th>\n",
       "      <td>MOTOROLA g31 (Baby Blue, 128 GB)</td>\n",
       "      <td>MOTOROLA g31 (Baby Blue, 128 GB)</td>\n",
       "      <td>MOTOROLA g31 (Baby Blue, 128 GB)</td>\n",
       "      <td>17.02 cm (6.7 inch) HD+ Display</td>\n",
       "      <td>17.02 cm (6.7 inch) HD+ Display</td>\n",
       "      <td>17.02 cm (6.7 inch) HD+ Display</td>\n",
       "      <td>17.02 cm (6.7 inch) HD+ Display</td>\n",
       "      <td>17.02 cm (6.7 inch) HD+ Display</td>\n",
       "      <td>17.02 cm (6.7 inch) HD+ Display</td>\n",
       "      <td>17.02 cm (6.7 inch) HD+ Display</td>\n",
       "    </tr>\n",
       "    <tr>\n",
       "      <th>8</th>\n",
       "      <td>MOTOROLA g52 (Charcoal Grey, 64 GB)</td>\n",
       "      <td>MOTOROLA g52 (Charcoal Grey, 64 GB)</td>\n",
       "      <td>MOTOROLA g52 (Charcoal Grey, 64 GB)</td>\n",
       "      <td>50MP + 2MP | 5MP Front Camera</td>\n",
       "      <td>50MP + 2MP | 5MP Front Camera</td>\n",
       "      <td>50MP + 2MP | 5MP Front Camera</td>\n",
       "      <td>50MP + 2MP | 5MP Front Camera</td>\n",
       "      <td>50MP + 2MP | 5MP Front Camera</td>\n",
       "      <td>50MP + 2MP | 5MP Front Camera</td>\n",
       "      <td>50MP + 2MP | 5MP Front Camera</td>\n",
       "    </tr>\n",
       "    <tr>\n",
       "      <th>9</th>\n",
       "      <td>MOTOROLA e40 (Carbon Gray, 64 GB)</td>\n",
       "      <td>MOTOROLA e40 (Carbon Gray, 64 GB)</td>\n",
       "      <td>MOTOROLA e40 (Carbon Gray, 64 GB)</td>\n",
       "      <td>6000 mAh Lithium Polymer Battery</td>\n",
       "      <td>6000 mAh Lithium Polymer Battery</td>\n",
       "      <td>6000 mAh Lithium Polymer Battery</td>\n",
       "      <td>6000 mAh Lithium Polymer Battery</td>\n",
       "      <td>6000 mAh Lithium Polymer Battery</td>\n",
       "      <td>6000 mAh Lithium Polymer Battery</td>\n",
       "      <td>6000 mAh Lithium Polymer Battery</td>\n",
       "    </tr>\n",
       "  </tbody>\n",
       "</table>\n",
       "</div>"
      ],
      "text/plain": [
       "                                         brand  \\\n",
       "0            REDMI 10 (Caribbean Green, 64 GB)   \n",
       "1               REDMI 10 (Pacific Blue, 64 GB)   \n",
       "2    Infinix HOT 20 Play (Racing Black, 64 GB)   \n",
       "3       Infinix HOT 20 Play (Luna Blue, 64 GB)   \n",
       "4  Infinix HOT 20 Play (Fantasy Purple, 64 GB)   \n",
       "5    Infinix HOT 20 Play (Aurora Green, 64 GB)   \n",
       "6             REDMI 10 (Midnight Black, 64 GB)   \n",
       "7             MOTOROLA g31 (Baby Blue, 128 GB)   \n",
       "8          MOTOROLA g52 (Charcoal Grey, 64 GB)   \n",
       "9            MOTOROLA e40 (Carbon Gray, 64 GB)   \n",
       "\n",
       "                                          Name  \\\n",
       "0            REDMI 10 (Caribbean Green, 64 GB)   \n",
       "1               REDMI 10 (Pacific Blue, 64 GB)   \n",
       "2    Infinix HOT 20 Play (Racing Black, 64 GB)   \n",
       "3       Infinix HOT 20 Play (Luna Blue, 64 GB)   \n",
       "4  Infinix HOT 20 Play (Fantasy Purple, 64 GB)   \n",
       "5    Infinix HOT 20 Play (Aurora Green, 64 GB)   \n",
       "6             REDMI 10 (Midnight Black, 64 GB)   \n",
       "7             MOTOROLA g31 (Baby Blue, 128 GB)   \n",
       "8          MOTOROLA g52 (Charcoal Grey, 64 GB)   \n",
       "9            MOTOROLA e40 (Carbon Gray, 64 GB)   \n",
       "\n",
       "                                        Colour  \\\n",
       "0            REDMI 10 (Caribbean Green, 64 GB)   \n",
       "1               REDMI 10 (Pacific Blue, 64 GB)   \n",
       "2    Infinix HOT 20 Play (Racing Black, 64 GB)   \n",
       "3       Infinix HOT 20 Play (Luna Blue, 64 GB)   \n",
       "4  Infinix HOT 20 Play (Fantasy Purple, 64 GB)   \n",
       "5    Infinix HOT 20 Play (Aurora Green, 64 GB)   \n",
       "6             REDMI 10 (Midnight Black, 64 GB)   \n",
       "7             MOTOROLA g31 (Baby Blue, 128 GB)   \n",
       "8          MOTOROLA g52 (Charcoal Grey, 64 GB)   \n",
       "9            MOTOROLA e40 (Carbon Gray, 64 GB)   \n",
       "\n",
       "                                                 RAM  \\\n",
       "0        4 GB RAM | 64 GB ROM | Expandable Upto 1 TB   \n",
       "1                    17.02 cm (6.7 inch) HD+ Display   \n",
       "2                      50MP + 2MP | 5MP Front Camera   \n",
       "3                   6000 mAh Lithium Polymer Battery   \n",
       "4                  Qualcomm Snapdragon 680 Processor   \n",
       "5  1 Year Warranty for Phone and 6 Months Warrant...   \n",
       "6        4 GB RAM | 64 GB ROM | Expandable Upto 1 TB   \n",
       "7                    17.02 cm (6.7 inch) HD+ Display   \n",
       "8                      50MP + 2MP | 5MP Front Camera   \n",
       "9                   6000 mAh Lithium Polymer Battery   \n",
       "\n",
       "                                                 ROM  \\\n",
       "0        4 GB RAM | 64 GB ROM | Expandable Upto 1 TB   \n",
       "1                    17.02 cm (6.7 inch) HD+ Display   \n",
       "2                      50MP + 2MP | 5MP Front Camera   \n",
       "3                   6000 mAh Lithium Polymer Battery   \n",
       "4                  Qualcomm Snapdragon 680 Processor   \n",
       "5  1 Year Warranty for Phone and 6 Months Warrant...   \n",
       "6        4 GB RAM | 64 GB ROM | Expandable Upto 1 TB   \n",
       "7                    17.02 cm (6.7 inch) HD+ Display   \n",
       "8                      50MP + 2MP | 5MP Front Camera   \n",
       "9                   6000 mAh Lithium Polymer Battery   \n",
       "\n",
       "                                             Pcamera  \\\n",
       "0        4 GB RAM | 64 GB ROM | Expandable Upto 1 TB   \n",
       "1                    17.02 cm (6.7 inch) HD+ Display   \n",
       "2                      50MP + 2MP | 5MP Front Camera   \n",
       "3                   6000 mAh Lithium Polymer Battery   \n",
       "4                  Qualcomm Snapdragon 680 Processor   \n",
       "5  1 Year Warranty for Phone and 6 Months Warrant...   \n",
       "6        4 GB RAM | 64 GB ROM | Expandable Upto 1 TB   \n",
       "7                    17.02 cm (6.7 inch) HD+ Display   \n",
       "8                      50MP + 2MP | 5MP Front Camera   \n",
       "9                   6000 mAh Lithium Polymer Battery   \n",
       "\n",
       "                                              Camera  \\\n",
       "0        4 GB RAM | 64 GB ROM | Expandable Upto 1 TB   \n",
       "1                    17.02 cm (6.7 inch) HD+ Display   \n",
       "2                      50MP + 2MP | 5MP Front Camera   \n",
       "3                   6000 mAh Lithium Polymer Battery   \n",
       "4                  Qualcomm Snapdragon 680 Processor   \n",
       "5  1 Year Warranty for Phone and 6 Months Warrant...   \n",
       "6        4 GB RAM | 64 GB ROM | Expandable Upto 1 TB   \n",
       "7                    17.02 cm (6.7 inch) HD+ Display   \n",
       "8                      50MP + 2MP | 5MP Front Camera   \n",
       "9                   6000 mAh Lithium Polymer Battery   \n",
       "\n",
       "                                             Display  \\\n",
       "0        4 GB RAM | 64 GB ROM | Expandable Upto 1 TB   \n",
       "1                    17.02 cm (6.7 inch) HD+ Display   \n",
       "2                      50MP + 2MP | 5MP Front Camera   \n",
       "3                   6000 mAh Lithium Polymer Battery   \n",
       "4                  Qualcomm Snapdragon 680 Processor   \n",
       "5  1 Year Warranty for Phone and 6 Months Warrant...   \n",
       "6        4 GB RAM | 64 GB ROM | Expandable Upto 1 TB   \n",
       "7                    17.02 cm (6.7 inch) HD+ Display   \n",
       "8                      50MP + 2MP | 5MP Front Camera   \n",
       "9                   6000 mAh Lithium Polymer Battery   \n",
       "\n",
       "                                             Battery  \\\n",
       "0        4 GB RAM | 64 GB ROM | Expandable Upto 1 TB   \n",
       "1                    17.02 cm (6.7 inch) HD+ Display   \n",
       "2                      50MP + 2MP | 5MP Front Camera   \n",
       "3                   6000 mAh Lithium Polymer Battery   \n",
       "4                  Qualcomm Snapdragon 680 Processor   \n",
       "5  1 Year Warranty for Phone and 6 Months Warrant...   \n",
       "6        4 GB RAM | 64 GB ROM | Expandable Upto 1 TB   \n",
       "7                    17.02 cm (6.7 inch) HD+ Display   \n",
       "8                      50MP + 2MP | 5MP Front Camera   \n",
       "9                   6000 mAh Lithium Polymer Battery   \n",
       "\n",
       "                                               price  \n",
       "0        4 GB RAM | 64 GB ROM | Expandable Upto 1 TB  \n",
       "1                    17.02 cm (6.7 inch) HD+ Display  \n",
       "2                      50MP + 2MP | 5MP Front Camera  \n",
       "3                   6000 mAh Lithium Polymer Battery  \n",
       "4                  Qualcomm Snapdragon 680 Processor  \n",
       "5  1 Year Warranty for Phone and 6 Months Warrant...  \n",
       "6        4 GB RAM | 64 GB ROM | Expandable Upto 1 TB  \n",
       "7                    17.02 cm (6.7 inch) HD+ Display  \n",
       "8                      50MP + 2MP | 5MP Front Camera  \n",
       "9                   6000 mAh Lithium Polymer Battery  "
      ]
     },
     "execution_count": 47,
     "metadata": {},
     "output_type": "execute_result"
    }
   ],
   "source": [
    "import pandas as pd\n",
    "df=pd.DataFrame({'brand':brand_name,'Name':smartphone_name,'Colour':phone_colour,'RAM':phone_RAM,'ROM':phone_ROM,'Pcamera':primary_camera,'Camera':secondary_camera,'Display':display_size,'Battery':battery_capacity,'price':phone_price})\n",
    "df"
   ]
  },
  {
   "cell_type": "code",
   "execution_count": 17,
   "id": "98e331a8",
   "metadata": {},
   "outputs": [],
   "source": [
    "import selenium\n",
    "import pandas as pd\n",
    "import time\n",
    "from bs4 import BeautifulSoup\n",
    "from selenium import webdriver\n",
    "from selenium.common.exceptions import StaleElementReferenceException, NoSuchElementException\n",
    "import requests\n",
    "import re \n",
    "from selenium.webdriver.common.by import By\n",
    "import time"
   ]
  },
  {
   "cell_type": "code",
   "execution_count": 18,
   "id": "107dd489",
   "metadata": {},
   "outputs": [
    {
     "name": "stderr",
     "output_type": "stream",
     "text": [
      "C:\\Users\\Laksh\\AppData\\Local\\Temp\\ipykernel_13764\\364441483.py:1: DeprecationWarning: executable_path has been deprecated, please pass in a Service object\n",
      "  driver = webdriver.Chrome(r\"C:\\Users\\HP\\Downloads\\chromedriver_win32 (3)/chromedriver.exe\")\n"
     ]
    }
   ],
   "source": [
    "driver = webdriver.Chrome(r\"C:\\Users\\HP\\Downloads\\chromedriver_win32 (3)/chromedriver.exe\")"
   ]
  },
  {
   "cell_type": "code",
   "execution_count": 19,
   "id": "632704f9",
   "metadata": {},
   "outputs": [],
   "source": [
    "driver.get('https://www.forbes.com/?sh=76dacebc2254')"
   ]
  },
  {
   "cell_type": "code",
   "execution_count": 21,
   "id": "ca31aa55",
   "metadata": {},
   "outputs": [],
   "source": [
    "search_item=driver.find_element(By.CLASS_NAME,\"search-modal__input\")\n",
    "search_item.send_keys(\"All Billionaires\")"
   ]
  },
  {
   "cell_type": "code",
   "execution_count": 22,
   "id": "6b859d98",
   "metadata": {},
   "outputs": [],
   "source": [
    "search_button=driver.find_element(By.XPATH,\"/html/body/div[1]/div[3]/form/button\")\n",
    "search_button.click()"
   ]
  },
  {
   "cell_type": "code",
   "execution_count": 23,
   "id": "5b8db322",
   "metadata": {},
   "outputs": [],
   "source": [
    "billionaires_rank=[]\n",
    "billionaires_name=[]\n",
    "net_worth=[]\n",
    "billionaires_citizenship=[]\n",
    "billionaires_source=[]\n",
    "billionaires_industry=[]"
   ]
  },
  {
   "cell_type": "code",
   "execution_count": 94,
   "id": "73908fdc",
   "metadata": {},
   "outputs": [],
   "source": [
    "import selenium\n",
    "import pandas as pd\n",
    "import time\n",
    "from bs4 import BeautifulSoup\n",
    "from selenium import webdriver\n",
    "from selenium.common.exceptions import StaleElementReferenceException, NoSuchElementException\n",
    "import requests\n",
    "import re \n",
    "from selenium.webdriver.common.by import By\n",
    "import time"
   ]
  },
  {
   "cell_type": "code",
   "execution_count": 95,
   "id": "fb468b8f",
   "metadata": {},
   "outputs": [
    {
     "name": "stderr",
     "output_type": "stream",
     "text": [
      "C:\\Users\\Laksh\\AppData\\Local\\Temp\\ipykernel_13764\\364441483.py:1: DeprecationWarning: executable_path has been deprecated, please pass in a Service object\n",
      "  driver = webdriver.Chrome(r\"C:\\Users\\HP\\Downloads\\chromedriver_win32 (3)/chromedriver.exe\")\n"
     ]
    }
   ],
   "source": [
    "driver = webdriver.Chrome(r\"C:\\Users\\HP\\Downloads\\chromedriver_win32 (3)/chromedriver.exe\")"
   ]
  },
  {
   "cell_type": "code",
   "execution_count": 96,
   "id": "e3a5bc23",
   "metadata": {},
   "outputs": [],
   "source": [
    "driver.get('https://www.hostelworld.com/')"
   ]
  },
  {
   "cell_type": "code",
   "execution_count": 97,
   "id": "2429d785",
   "metadata": {},
   "outputs": [],
   "source": [
    "location=driver.find_element(By.CLASS_NAME,\"location-text\")\n",
    "location.send_keys('london')"
   ]
  },
  {
   "cell_type": "code",
   "execution_count": 86,
   "id": "a26653cc",
   "metadata": {},
   "outputs": [],
   "source": [
    "search=driver.find_element(By.CLASS_NAME,\"location-text\")\n",
    "search.click()"
   ]
  },
  {
   "cell_type": "code",
   "execution_count": 87,
   "id": "ec7d4d5c",
   "metadata": {},
   "outputs": [],
   "source": [
    "hostel_name=[]\n",
    "distance_from_city=[]\n",
    "hostel_ratings=[]\n",
    "hostel_price=[]\n",
    "hostel_facilities=[]"
   ]
  },
  {
   "cell_type": "code",
   "execution_count": 88,
   "id": "4b355fec",
   "metadata": {},
   "outputs": [],
   "source": [
    "name_tags=driver.find_elements(By.XPATH,'//div[@class=\"property-name\"]')\n",
    "for i in name_tags[0:10]:\n",
    "    name=i.text\n",
    "    hostel_name.append(name)\n",
    "    \n",
    "distance_tags=driver.find_elements(By.XPATH,'//span[@class=\"distance-description\"]')\n",
    "for i in distance_tags[0:10]:\n",
    "    distance=i.text\n",
    "    distance_from_city.append(distance)\n",
    "    \n",
    "ratings_tags=driver.find_elements(By.XPATH,'//div[@class=\"score-row\"]')\n",
    "for i in ratings_tags[0:10]:\n",
    "    ratings=i.text\n",
    "    hostel_ratings.append(ratings)\n",
    "    \n",
    "price_tags=driver.find_elements(By.XPATH,'//div[@class=\"price\"]')\n",
    "for i in price_tags[0:10]:\n",
    "    price=i.text\n",
    "    hostel_price.append(price)\n",
    "    \n",
    "facilities_tags=driver.find_elements(By.XPATH,'//ul[@class=\"facilities\"]')\n",
    "for i in price_tags[0:10]:\n",
    "    facilities=i.text\n",
    "    hostel_facilities.append(facilities)    "
   ]
  },
  {
   "cell_type": "code",
   "execution_count": 90,
   "id": "36b9989e",
   "metadata": {},
   "outputs": [
    {
     "name": "stdout",
     "output_type": "stream",
     "text": [
      "{0}\n"
     ]
    }
   ],
   "source": [
    "print({len(hostel_name),len(distance_from_city),len(hostel_ratings),len(hostel_price),len(hostel_facilities)})"
   ]
  },
  {
   "cell_type": "code",
   "execution_count": 92,
   "id": "c2b128ab",
   "metadata": {},
   "outputs": [],
   "source": [
    "import pandas as pd\n",
    "df=pd.DataFrame({'Name':hostel_name,'Distance':distance_from_city,'rating':hostel_ratings,'price':hostel_price,'facilities':hostel_facilities})"
   ]
  },
  {
   "cell_type": "code",
   "execution_count": 93,
   "id": "c35f1ff8",
   "metadata": {},
   "outputs": [
    {
     "data": {
      "text/html": [
       "<div>\n",
       "<style scoped>\n",
       "    .dataframe tbody tr th:only-of-type {\n",
       "        vertical-align: middle;\n",
       "    }\n",
       "\n",
       "    .dataframe tbody tr th {\n",
       "        vertical-align: top;\n",
       "    }\n",
       "\n",
       "    .dataframe thead th {\n",
       "        text-align: right;\n",
       "    }\n",
       "</style>\n",
       "<table border=\"1\" class=\"dataframe\">\n",
       "  <thead>\n",
       "    <tr style=\"text-align: right;\">\n",
       "      <th></th>\n",
       "      <th>Name</th>\n",
       "      <th>Distance</th>\n",
       "      <th>rating</th>\n",
       "      <th>price</th>\n",
       "      <th>facilities</th>\n",
       "    </tr>\n",
       "  </thead>\n",
       "  <tbody>\n",
       "  </tbody>\n",
       "</table>\n",
       "</div>"
      ],
      "text/plain": [
       "Empty DataFrame\n",
       "Columns: [Name, Distance, rating, price, facilities]\n",
       "Index: []"
      ]
     },
     "execution_count": 93,
     "metadata": {},
     "output_type": "execute_result"
    }
   ],
   "source": [
    "df"
   ]
  },
  {
   "cell_type": "code",
   "execution_count": null,
   "id": "39b3655b",
   "metadata": {},
   "outputs": [],
   "source": []
  }
 ],
 "metadata": {
  "kernelspec": {
   "display_name": "Python 3 (ipykernel)",
   "language": "python",
   "name": "python3"
  },
  "language_info": {
   "codemirror_mode": {
    "name": "ipython",
    "version": 3
   },
   "file_extension": ".py",
   "mimetype": "text/x-python",
   "name": "python",
   "nbconvert_exporter": "python",
   "pygments_lexer": "ipython3",
   "version": "3.9.12"
  }
 },
 "nbformat": 4,
 "nbformat_minor": 5
}
